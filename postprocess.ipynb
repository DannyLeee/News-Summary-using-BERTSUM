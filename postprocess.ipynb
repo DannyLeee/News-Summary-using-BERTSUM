{
 "cells": [
  {
   "cell_type": "code",
   "execution_count": 1,
   "metadata": {},
   "outputs": [],
   "source": [
    "from transformers import BertTokenizer\n",
    "import torch"
   ]
  },
  {
   "cell_type": "raw",
   "metadata": {},
   "source": [
    "test_set = torch.load('./dataset/bert_data_for_BERTSUM/TC/PTS_all.test.pt')\n",
    "test_set[0]['tgt_txt']"
   ]
  },
  {
   "cell_type": "code",
   "execution_count": 3,
   "metadata": {},
   "outputs": [],
   "source": [
    "tokenizer = BertTokenizer.from_pretrained('./chinese_wwm_pytorch/')"
   ]
  },
  {
   "cell_type": "code",
   "execution_count": 35,
   "metadata": {},
   "outputs": [
    {
     "name": "stderr",
     "output_type": "stream",
     "text": [
      "Truncation was not explicitely activated but `max_length` is provided a specific value, please use `truncation=True` to explicitely truncate examples to max length. Defaulting to 'longest_first' truncation strategy. If you encode pairs of sequences (GLUE-style) with the tokenizer you can select this strategy more precisely by providing a specific strategy to `truncation`.\n"
     ]
    }
   ],
   "source": [
    "predict = []\n",
    "max_length = 0\n",
    "with open(\"/home/danny/BertSum/results/NewsSummary/transformer_step180.gold\", \"r\") as fileIn:\n",
    "    line = fileIn.readline()\n",
    "    while (line != \"\"):\n",
    "        line = line.replace(\"<q>\", \"\")\n",
    "        predict.append(line[:-1])\n",
    "        if (max_length < len(line) - 1):\n",
    "            max_length = len(line) - 1\n",
    "        line = fileIn.readline()\n",
    "\n",
    "bert_dict = tokenizer.batch_encode_plus(predict,\n",
    "                                 add_special_tokens = False,\n",
    "                                 return_token_type_ids = False,\n",
    "                                 return_attention_mask = False,\n",
    "                                 return_tensors='pt',\n",
    "                                 max_length=max_length,\n",
    "                                 pad_to_max_length=True,)"
   ]
  },
  {
   "cell_type": "code",
   "execution_count": 36,
   "metadata": {},
   "outputs": [],
   "source": [
    "with open(\"./result/gold.txt\", \"w\") as fileOut:\n",
    "    for token in bert_dict['input_ids']:\n",
    "        int_list = token.tolist()\n",
    "        for i in int_list:\n",
    "            if (i != 0):\n",
    "                fileOut.write(str(i) + ' ')\n",
    "        fileOut.write('\\n')        "
   ]
  },
  {
   "cell_type": "code",
   "execution_count": null,
   "metadata": {},
   "outputs": [],
   "source": []
  }
 ],
 "metadata": {
  "kernelspec": {
   "display_name": "Python 3",
   "language": "python",
   "name": "python3"
  },
  "language_info": {
   "codemirror_mode": {
    "name": "ipython",
    "version": 3
   },
   "file_extension": ".py",
   "mimetype": "text/x-python",
   "name": "python",
   "nbconvert_exporter": "python",
   "pygments_lexer": "ipython3",
   "version": "3.6.9"
  }
 },
 "nbformat": 4,
 "nbformat_minor": 2
}
